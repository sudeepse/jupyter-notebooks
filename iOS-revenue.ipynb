#File starts

print('Hello World')
